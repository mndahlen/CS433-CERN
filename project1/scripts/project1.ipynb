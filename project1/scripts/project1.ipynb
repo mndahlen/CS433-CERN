{
 "cells": [
  {
   "cell_type": "code",
   "execution_count": 2,
   "metadata": {
    "tags": []
   },
   "outputs": [],
   "source": [
    "# Useful starting lines\n",
    "%matplotlib inline\n",
    "import numpy as np\n",
    "import matplotlib.pyplot as plt\n",
    "import pandas as pd\n",
    "%load_ext autoreload\n",
    "%autoreload 2"
   ]
  },
  {
   "cell_type": "markdown",
   "metadata": {},
   "source": [
    "## Load the training data into feature matrix, class labels, and event ids:"
   ]
  },
  {
   "cell_type": "code",
   "execution_count": 94,
   "metadata": {
    "collapsed": false,
    "jupyter": {
     "outputs_hidden": false
    }
   },
   "outputs": [],
   "source": [
    "from proj1_helpers import *\n",
    "from implementations import *\n",
    "\n",
    "DATA_TRAIN_PATH = '../data/train.csv.zip'\n",
    "DATA_TEST_PATH = '../data/test.csv.zip'\n",
    "\n",
    "# Load data\n",
    "data_train = pd.read_csv(DATA_TRAIN_PATH)\n",
    "data_test = pd.read_csv(DATA_TEST_PATH) # NOTE: This is test for SUBMISSION, not test for training.\n",
    "\n",
    "# Make Y binary [-1,1]\n",
    "data_train.loc[data_train['Prediction'] == 's','Prediction'] = 1\n",
    "data_train.loc[data_train['Prediction'] == 'b','Prediction'] = 0\n",
    "data_train['Prediction'] = pd.to_numeric(data_train['Prediction'])\n",
    "\n",
    "# Extract y\n",
    "y_train = data_train['Prediction'].to_frame()\n",
    "y = y_train.to_numpy()\n",
    "\n",
    "# Get ids\n",
    "id_train = data_train['Id'].to_frame()\n",
    "\n",
    "# Get x\n",
    "x_train = data_train.copy()\n",
    "x_train.drop(['Id','Prediction'], 1, inplace=True) \n",
    "x = x_train.to_numpy()\n"
   ]
  },
  {
   "cell_type": "markdown",
   "metadata": {},
   "source": [
    "## Hackz"
   ]
  },
  {
   "cell_type": "code",
   "execution_count": 92,
   "metadata": {},
   "outputs": [
    {
     "name": "stdout",
     "output_type": "stream",
     "text": [
      "Optimization terminated successfully.\n",
      "         Current function value: 0.513424\n",
      "         Iterations 6\n",
      "                           Logit Regression Results                           \n",
      "==============================================================================\n",
      "Dep. Variable:             Prediction   No. Observations:               250000\n",
      "Model:                          Logit   Df Residuals:                   249973\n",
      "Method:                           MLE   Df Model:                           26\n",
      "Date:                Fri, 22 Oct 2021   Pseudo R-squ.:                  0.2013\n",
      "Time:                        15:54:38   Log-Likelihood:            -1.2836e+05\n",
      "converged:                       True   LL-Null:                   -1.6070e+05\n",
      "Covariance Type:            nonrobust   LLR p-value:                     0.000\n",
      "===============================================================================================\n",
      "                                  coef    std err          z      P>|z|      [0.025      0.975]\n",
      "-----------------------------------------------------------------------------------------------\n",
      "Intercept                       1.1989      0.079     15.163      0.000       1.044       1.354\n",
      "DER_mass_MMC                    0.0012   2.19e-05     54.693      0.000       0.001       0.001\n",
      "DER_mass_transverse_met_lep    -0.0225      0.000   -103.810      0.000      -0.023      -0.022\n",
      "DER_mass_vis                   -0.0075      0.000    -36.460      0.000      -0.008      -0.007\n",
      "DER_pt_h                       -0.0070      0.000    -26.484      0.000      -0.007      -0.006\n",
      "DER_deltaeta_jet_jet           -0.1197      0.013     -9.228      0.000      -0.145      -0.094\n",
      "DER_mass_jet_jet                0.0027   6.67e-05     39.875      0.000       0.003       0.003\n",
      "DER_pt_ratio_lep_tau           -0.5141      0.015    -34.283      0.000      -0.543      -0.485\n",
      "DER_met_phi_centrality          0.2584      0.005     47.840      0.000       0.248       0.269\n",
      "DER_lep_eta_centrality          0.1711      0.015     11.705      0.000       0.142       0.200\n",
      "PRI_tau_pt                      0.0195      0.000     43.436      0.000       0.019       0.020\n",
      "PRI_tau_eta                     0.0001      0.005      0.020      0.984      -0.010       0.010\n",
      "PRI_tau_phi                    -0.0046      0.003     -1.636      0.102      -0.010       0.001\n",
      "PRI_lep_pt                      0.0287      0.001     53.605      0.000       0.028       0.030\n",
      "PRI_lep_eta                    -0.0012      0.005     -0.233      0.816      -0.011       0.009\n",
      "PRI_lep_phi                     0.0024      0.003      0.849      0.396      -0.003       0.008\n",
      "PRI_met                         0.0139      0.000     46.008      0.000       0.013       0.015\n",
      "PRI_met_phi                    -0.0001      0.003     -0.050      0.960      -0.005       0.005\n",
      "PRI_met_sumet                  -0.0017   9.43e-05    -18.136      0.000      -0.002      -0.002\n",
      "PRI_jet_num                    -0.5672      0.033    -17.314      0.000      -0.631      -0.503\n",
      "PRI_jet_leading_pt             -0.0011      0.001     -2.106      0.035      -0.002   -7.42e-05\n",
      "PRI_jet_leading_eta             0.0002      0.003      0.086      0.931      -0.005       0.005\n",
      "PRI_jet_leading_phi             0.0016      0.003      0.641      0.521      -0.003       0.007\n",
      "PRI_jet_subleading_pt          -0.0025      0.001     -3.541      0.000      -0.004      -0.001\n",
      "PRI_jet_subleading_eta         -0.0191      0.004     -4.251      0.000      -0.028      -0.010\n",
      "PRI_jet_subleading_phi         -0.0318      0.005     -6.539      0.000      -0.041      -0.022\n",
      "PRI_jet_all_pt                 -0.0028      0.000     -5.887      0.000      -0.004      -0.002\n",
      "===============================================================================================\n"
     ]
    }
   ],
   "source": [
    "# Initial survey of data\n",
    "from scipy import stats\n",
    "import statsmodels.api as sm\n",
    "import statsmodels.formula.api as smf\n",
    "\n",
    "mod = smf.logit(formula='Prediction ~  DER_mass_MMC + DER_mass_transverse_met_lep + DER_mass_vis + \\\n",
    "                         DER_pt_h + DER_deltaeta_jet_jet + DER_mass_jet_jet + \\\n",
    "                         DER_pt_ratio_lep_tau + DER_met_phi_centrality + DER_lep_eta_centrality + \\\n",
    "                         PRI_tau_pt + PRI_tau_eta + PRI_tau_phi + PRI_lep_pt + PRI_lep_eta + PRI_lep_phi + \\\n",
    "                         PRI_met + PRI_met_phi + PRI_met_sumet + PRI_jet_num + PRI_jet_leading_pt + \\\n",
    "                         PRI_jet_leading_eta + PRI_jet_leading_phi + PRI_jet_subleading_pt + \\\n",
    "                         PRI_jet_subleading_eta + PRI_jet_subleading_phi + PRI_jet_all_pt', data=data_train)\n",
    "res = mod.fit()\n",
    "print(res.summary())\n"
   ]
  },
  {
   "cell_type": "markdown",
   "metadata": {},
   "source": [
    "## Using above\n",
    "Above can be used to test different models for logistic regression. Test different combinations etc, also get parameters (coefficients). We can begin by only using the predictors with strong coefficients, for example \"DER_pt_ratio_lep_tau\". /Martin"
   ]
  },
  {
   "cell_type": "markdown",
   "metadata": {},
   "source": [
    "## Do your thing crazy machine learning thing here :) ..."
   ]
  },
  {
   "cell_type": "code",
   "execution_count": 102,
   "metadata": {},
   "outputs": [
    {
     "name": "stdout",
     "output_type": "stream",
     "text": [
      "[[   1.     138.47    51.655 ...    1.24    -2.475  113.497]\n",
      " [   1.     160.937   68.768 ... -999.    -999.      46.226]\n",
      " [   1.    -999.     162.172 ... -999.    -999.      44.251]\n",
      " ...\n",
      " [   1.     105.457   60.526 ... -999.    -999.      41.992]\n",
      " [   1.      94.951   19.362 ... -999.    -999.       0.   ]\n",
      " [   1.    -999.      72.756 ... -999.    -999.       0.   ]]\n",
      "[1. 1. 1. ... 1. 1. 1.]\n"
     ]
    }
   ],
   "source": [
    "# Extend data\n",
    "tx = build_poly_1D(x, 1)\n",
    "\n",
    "# fix this: Not working atm\n",
    "x_train,y_train,x_test,y_test = split_data(tx, y, 0.8, seed=1)\n",
    "\n",
    "# initialize a model (Not tested yet)\n",
    "initial_w = initialize a model\n",
    "max_iters = ?\n",
    "gamma = ?\n",
    "\n",
    "# Use cross validation?\n",
    "\n",
    "# Logistical Regression (Not tested yet)\n",
    "w, loss = logistic_regression(y, tx, initial_w, max_iters, gamma)\n",
    "\n",
    "# Test model! (Not tested yet)\n",
    "y_pred = predict_labels(w, x_test)\n",
    "\n"
   ]
  },
  {
   "cell_type": "markdown",
   "metadata": {},
   "source": [
    "## Generate predictions and save ouput in csv format for submission:"
   ]
  },
  {
   "cell_type": "code",
   "execution_count": 10,
   "metadata": {
    "collapsed": false,
    "jupyter": {
     "outputs_hidden": false
    }
   },
   "outputs": [],
   "source": [
    "DATA_TEST_PATH = '' # TODO: download train data and supply path here \n",
    "_, tX_test, ids_test = load_csv_data(DATA_TEST_PATH)"
   ]
  },
  {
   "cell_type": "code",
   "execution_count": 31,
   "metadata": {
    "collapsed": false,
    "jupyter": {
     "outputs_hidden": false
    }
   },
   "outputs": [],
   "source": [
    "OUTPUT_PATH = '' # TODO: fill in desired name of output file for submission\n",
    "y_pred = predict_labels(weights, tX_test)\n",
    "create_csv_submission(ids_test, y_pred, OUTPUT_PATH)"
   ]
  },
  {
   "cell_type": "code",
   "execution_count": null,
   "metadata": {
    "collapsed": true,
    "jupyter": {
     "outputs_hidden": true
    }
   },
   "outputs": [],
   "source": []
  }
 ],
 "metadata": {
  "anaconda-cloud": {},
  "kernelspec": {
   "display_name": "Python 3",
   "language": "python",
   "name": "python3"
  },
  "language_info": {
   "codemirror_mode": {
    "name": "ipython",
    "version": 3
   },
   "file_extension": ".py",
   "mimetype": "text/x-python",
   "name": "python",
   "nbconvert_exporter": "python",
   "pygments_lexer": "ipython3",
   "version": "3.8.8"
  }
 },
 "nbformat": 4,
 "nbformat_minor": 4
}
